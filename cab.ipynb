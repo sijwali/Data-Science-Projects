{
 "cells": [
  {
   "cell_type": "code",
   "execution_count": 2,
   "metadata": {},
   "outputs": [],
   "source": [
    "# Including Required packages\n",
    "%matplotlib inline\n",
    "import pandas as pd\n",
    "from matplotlib import pyplot as plt\n",
    "import matplotlib\n",
    "import matplotlib.pyplot as plt\n",
    "matplotlib.style.use('ggplot')\n",
    "import numpy as np\n",
    "from sklearn.preprocessing import StandardScaler\n",
    "from sklearn.decomposition import PCA\n",
    "from sklearn.cluster import KMeans\n",
    "import datetime\n",
    "import timezonefinder, pytz\n",
    "from pytz import timezone\n",
    "from pyspark import SparkContext\n",
    "from pyspark.streaming import StreamingContext\n",
    "from pyspark.sql import SQLContext\n",
    "from pyspark.sql.functions import desc\n",
    "from graphframes import *"
   ]
  },
  {
   "cell_type": "code",
   "execution_count": 3,
   "metadata": {},
   "outputs": [],
   "source": [
    "from pandas import Series\n",
    "from scipy.stats import multivariate_normal\n",
    "multivariate_gaussian_pdf = multivariate_normal.pdf"
   ]
  },
  {
   "cell_type": "code",
   "execution_count": 4,
   "metadata": {},
   "outputs": [],
   "source": [
    "test = pd.read_csv('C:\\\\Term2\\\\Practicum\\\\cabdata_form.csv')"
   ]
  },
  {
   "cell_type": "code",
   "execution_count": 16,
   "metadata": {},
   "outputs": [],
   "source": [
    "## Convert unix Timestamp to British Standard time as Lat/Long corresponds to Portugal area\n",
    "unix_timestamp = test['TIMESTAMP'].values\n",
    "local_time=[]\n",
    "for i in range(len(unix_timestamp)):\n",
    "    local_time.append(pd.to_datetime(datetime.datetime.fromtimestamp(test['TIMESTAMP'][i]).astimezone(timezone('Europe/London')).strftime(\"%Y-%m-%d %H:%M:%S\")))\n",
    "test['local_time']=local_time\n",
    "test = test.set_index(['local_time'])"
   ]
  },
  {
   "cell_type": "code",
   "execution_count": 13,
   "metadata": {},
   "outputs": [],
   "source": [
    "## Start Latitudes/Longitudes\n",
    "start_lat=[]\n",
    "start_lon=[]\n",
    "lats=test['POLYLINE'].values\n",
    "for i in range(len(lats)):\n",
    "    if lats[i]=='[]':\n",
    "        start_lat.append(0)\n",
    "        start_lon.append(0)\n",
    "    else:\n",
    "        start_lat.append(float(lats[i].split(']')[0].replace('[','').split(',')[0]))\n",
    "        start_lon.append(float(lats[i].split(']')[0].replace('[','').split(',')[1]))"
   ]
  },
  {
   "cell_type": "code",
   "execution_count": 86,
   "metadata": {},
   "outputs": [
    {
     "name": "stderr",
     "output_type": "stream",
     "text": [
      "\n",
      "KeyboardInterrupt\n",
      "\n"
     ]
    }
   ],
   "source": [
    "## End Latitudes/Longitudes\n",
    "y=[]\n",
    "longitude=[]\n",
    "latitude=[]\n",
    "for i in range(len(x)):\n",
    "    a= x[i].replace('[','').split('],')\n",
    "    y1= [s.replace(\"]\", '') for s in a]\n",
    "    y.append(y1)\n",
    "for j in range(len(y)):\n",
    "    try:\n",
    "        a=[float(s.split(',')[0]) for s in y[j]]\n",
    "        longitude.append(a)\n",
    "        b=[float(s.split(',')[1]) for s in y[j]]\n",
    "        latitude.append(b)\n",
    "    except:\n",
    "        a=[s.split(',')[0] for s in y[j]]\n",
    "        longitude.append(a)\n",
    "        b=[s.split(',')[0] for s in y[j]]\n",
    "        latitude.append(b)\n",
    "\n",
    "end_lat=[]\n",
    "end_lon=[]\n",
    "for i in range(len(latitude)):\n",
    "    if len(latitude[i])<=1:\n",
    "        end_lat.append(0)\n",
    "        end_lon.append(0)\n",
    "    else:\n",
    "        end_lat.append(latitude[i][-1])\n",
    "        end_lon.append(longitude[i][-1])"
   ]
  },
  {
   "cell_type": "code",
   "execution_count": 43,
   "metadata": {},
   "outputs": [],
   "source": [
    "## Function to calculate distance between 2 lat/lon coordinates\n",
    "from math import radians, cos, sin, asin, sqrt\n",
    "def get_dist(lon1, lat1, lon2, lat2):\n",
    "    # convert decimal degrees to radians \n",
    "    lon1, lat1, lon2, lat2 = map(radians, [lon1, lat1, lon2, lat2])\n",
    "    # haversine formula \n",
    "    dlon = lon2 - lon1 \n",
    "    dlat = lat2 - lat1 \n",
    "    a = sin(dlat/2)**2 + cos(lat1) * cos(lat2) * sin(dlon/2)**2\n",
    "    c = 2 * asin(sqrt(a)) \n",
    "    # Radius of earth in kilometers is 6371\n",
    "    distance = 6371* c\n",
    "    return round(distance*1000,2)"
   ]
  },
  {
   "cell_type": "code",
   "execution_count": 28,
   "metadata": {},
   "outputs": [],
   "source": [
    "## Find total distance of ride\n",
    "tot_dist=[]\n",
    "for i in range(len(start_lat)):\n",
    "    if (start_lat[i]==0) or (end_lat[i]==0):\n",
    "        tot_dist.append(0)\n",
    "    else:\n",
    "        tot_dist.append(get_dist(start_lon[i],start_lat[i],end_lon[i],end_lat[i]))\n",
    "test['Tot_Dist']=tot_dist\n",
    "test['Start_Latitude']=start_lat\n",
    "test['Start_Longitude']=start_lon\n",
    "test['End_Latitude']=end_lat\n",
    "test['End_Longitude']=end_lon"
   ]
  },
  {
   "cell_type": "code",
   "execution_count": 70,
   "metadata": {},
   "outputs": [],
   "source": [
    "##Find total time of ride\n",
    "time=[]\n",
    "for i in range(len(latitude)):\n",
    "    if len(latitude[i])>1:\n",
    "        time.append((len(latitude[i])-1)*15/60)\n",
    "    else:\n",
    "        time.append(0)\n",
    "test['Time']=time"
   ]
  },
  {
   "cell_type": "code",
   "execution_count": 51,
   "metadata": {},
   "outputs": [],
   "source": [
    "## Find actual value of Day type\n",
    "## Check if the date is weekday or weekend, Mon-Thrus assigned as A i.e. Weekday, Friday Assigned as Before Holiday(BH)\n",
    "x=test.index\n",
    "weekday=[0,1,2,3]\n",
    "day_type=[]\n",
    "for i in range(len(x)):\n",
    "    a=x[i].weekday()\n",
    "    if a in weekday:\n",
    "        day_type.append(\"A\")\n",
    "    elif a == 4:\n",
    "        day_type.append(\"BH\")\n",
    "    elif a==5:\n",
    "        day_type.append(\"Sat\")\n",
    "    else:\n",
    "        day_type.append(\"Sun\")\n",
    "test['Day_Type']=day_type\n",
    "## Check if the day is public holiday?\n",
    "from datetime import date\n",
    "import holidays\n",
    "PT_holidays = holidays.CountryHoliday('PTE') ## PTE for Portugal\n",
    "x=test['TIMESTAMP'].values\n",
    "p_hol=[]\n",
    "for i in range(len(x)):\n",
    "    a1=int(x[i]) in PT_holidays\n",
    "    if a1:\n",
    "        p_hol.append(\"Hol\")\n",
    "    else:\n",
    "        p_hol.append(\"A\")\n",
    "test['Pub_Hol']=p_hol\n",
    "\n",
    "\n",
    "x=test[test['Pub_Hol']==\"Hol\"].index.date\n",
    "y=np.unique(x)\n",
    "## Creating an array of dates which are just before Public Holidays, based on value of y\n",
    "day_bf=[datetime.date(2013, 8, 14),datetime.date(2013, 12, 7),datetime.date(2013, 12, 23),datetime.date(2013, 12, 29),\n",
    " datetime.date(2014, 3, 3), datetime.date(2014, 4, 17),datetime.date(2014, 4, 24),datetime.date(2014, 4, 30),\n",
    " datetime.date(2014, 6, 9),datetime.date(2014, 6, 12)]\n",
    "x1=test.index.date\n",
    "bf=[]\n",
    "for i in range(len(x1)):\n",
    "    if x1[i] in day_bf:\n",
    "        bf.append(\"B\")\n",
    "    else:\n",
    "        bf.append(\"A\")\n",
    "test['Bef_Hol']=bf\n",
    "test['combined']=test['Day_Type']+test['Pub_Hol']+test['Bef_Hol']\n",
    "All_type=test['combined'].values\n",
    "type_b = ['SatAA','SunAA','AHolA','BHHolA','SunHolA','SatAB','SunAB','SatHolA']\n",
    "type_c = ['BHAA','AAB']\n",
    "Fin_day_type=[]\n",
    "for i in range(len(All_type)):\n",
    "    if All_type[i] in type_c:\n",
    "        Fin_day_type.append(\"C\")\n",
    "    elif All_type[i] in type_b:\n",
    "        Fin_day_type.append(\"B\")\n",
    "    else:\n",
    "        Fin_day_type.append(\"A\")\n",
    "test[\"Fin_Day_Type\"]=Fin_day_type"
   ]
  },
  {
   "cell_type": "code",
   "execution_count": 9,
   "metadata": {},
   "outputs": [
    {
     "data": {
      "text/html": [
       "<div>\n",
       "<style scoped>\n",
       "    .dataframe tbody tr th:only-of-type {\n",
       "        vertical-align: middle;\n",
       "    }\n",
       "\n",
       "    .dataframe tbody tr th {\n",
       "        vertical-align: top;\n",
       "    }\n",
       "\n",
       "    .dataframe thead th {\n",
       "        text-align: right;\n",
       "    }\n",
       "</style>\n",
       "<table border=\"1\" class=\"dataframe\">\n",
       "  <thead>\n",
       "    <tr style=\"text-align: right;\">\n",
       "      <th></th>\n",
       "      <th>ORIGIN_CALL</th>\n",
       "    </tr>\n",
       "  </thead>\n",
       "  <tbody>\n",
       "    <tr>\n",
       "      <td>2002.0</td>\n",
       "      <td>157.728767</td>\n",
       "    </tr>\n",
       "    <tr>\n",
       "      <td>63882.0</td>\n",
       "      <td>17.550685</td>\n",
       "    </tr>\n",
       "    <tr>\n",
       "      <td>2001.0</td>\n",
       "      <td>6.846575</td>\n",
       "    </tr>\n",
       "  </tbody>\n",
       "</table>\n",
       "</div>"
      ],
      "text/plain": [
       "         ORIGIN_CALL\n",
       "2002.0    157.728767\n",
       "63882.0    17.550685\n",
       "2001.0      6.846575"
      ]
     },
     "execution_count": 9,
     "metadata": {},
     "output_type": "execute_result"
    }
   ],
   "source": [
    "## Check the number of trips getting originated by calling, based on customer ID\n",
    "## Generally a direct customer might take taxi 3-4 times in a day, but there are cases where number of trips per day\n",
    "## from same customer ID >200, for which we can infer that these customers corresponds to B2B Business\n",
    "aa1=pd.DataFrame(test[test['CALL_TYPE']=='A']['ORIGIN_CALL'].value_counts())\n",
    "aa1[aa1['ORIGIN_CALL']>1350]/365\n"
   ]
  },
  {
   "cell_type": "code",
   "execution_count": 608,
   "metadata": {},
   "outputs": [],
   "source": [
    "# Number of Taxi Plying\n",
    "dd=test.groupby([test.index.date,'TAXI_ID']).agg({'TRIP_ID':[np.size]})\n",
    "dd.to_csv('C:\\\\Term2\\\\Practicum\\\\cabdata_taxigroup.csv')"
   ]
  },
  {
   "cell_type": "code",
   "execution_count": 631,
   "metadata": {},
   "outputs": [
    {
     "data": {
      "text/plain": [
       "(10, 20)"
      ]
     },
     "execution_count": 631,
     "metadata": {},
     "output_type": "execute_result"
    }
   ],
   "source": [
    "## Missing Value Analysis\n",
    "##1) If trip is originated by calling, do we have all 'Origin_call' Captured?\n",
    "##2) If trip is originated in stand, do we have all 'Origin_stand' Captured?\n",
    "##3) If trip is originated in stand and stand id not captured, then strating lat/long point available?\n",
    "##4) All Taxi_ID, Timestamp, Trip ID fields captured?\n",
    "##5) How many cases are there with route 'MISSING_DATA' as true\n",
    "test[(test['CALL_TYPE']=='A')&(test['ORIGIN_CALL'].isnull())]\n",
    "test[(test['CALL_TYPE']=='B')&(test['ORIGIN_STAND'].isnull())].shape\n",
    "test[(test['CALL_TYPE']=='B')&(test['ORIGIN_STAND'].isnull())&(test['Start_Latitude']==0)].shape\n",
    "test[test['TRIP_ID'].isnull()]\n",
    "test[test['CALL_TYPE'].isnull()]\n",
    "test[test['TAXI_ID'].isnull()]\n",
    "test[test['TIMESTAMP'].isnull()]\n",
    "test[test['MISSING_DATA']==True].shape"
   ]
  },
  {
   "cell_type": "code",
   "execution_count": 215,
   "metadata": {},
   "outputs": [
    {
     "data": {
      "text/plain": [
       "(-9.5, -7)"
      ]
     },
     "execution_count": 215,
     "metadata": {},
     "output_type": "execute_result"
    },
    {
     "data": {
      "image/png": "[encoded data removed]",
      "text/plain": [
       "<Figure size 432x288 with 1 Axes>"
      ]
     },
     "metadata": {
      "needs_background": "light"
     },
     "output_type": "display_data"
    }
   ],
   "source": [
    "## Basic Plot - Spread of trips based on call, Stand or Waving Hand origination\n",
    "plt.scatter(test[test['CALL_TYPE'] == 'C']['Start_Latitude'],test[test['CALL_TYPE'] == 'C']['Start_Longitude'])\n",
    "plt.scatter(test[test['CALL_TYPE'] == 'A']['Start_Latitude'],test[test['CALL_TYPE'] == 'A']['Start_Longitude'],c='lightblue')\n",
    "plt.scatter(test[test['CALL_TYPE'] == 'B']['Start_Latitude'],test[test['CALL_TYPE'] == 'B']['Start_Longitude'], c='lightgreen')\n",
    "plt.xlim(38.5, 42.2)\n",
    "plt.ylim(-9.5, -7)"
   ]
  },
  {
   "cell_type": "code",
   "execution_count": 63,
   "metadata": {},
   "outputs": [],
   "source": [
    "## Group on the basis of Day type, then group by hour of day and then group by call type.\n",
    "## Write to CSV and do hour by Analysis for each day type based on call type\n",
    "df_group_day_call_type= test.groupby(['Fin_Day_Type',test.index.hour,'CALL_TYPE']).agg({'TRIP_ID':[np.size]})\n",
    "df_group_day_call_type.to_csv('C:\\\\Term2\\\\Practicum\\\\df_group_day_call_type.csv')\n",
    "## Get the total number of days based on day type i.e how many total Working days, Before Holiday days and Holiday days\n",
    "l1=len(np.unique(test[test['Fin_Day_Type']=='A'].index.date))\n",
    "l2=len(np.unique(test[test['Fin_Day_Type']=='B'].index.date))\n",
    "l3=len(np.unique(test[test['Fin_Day_Type']=='C'].index.date))"
   ]
  },
  {
   "cell_type": "code",
   "execution_count": 704,
   "metadata": {},
   "outputs": [],
   "source": [
    "## Interim saving of data to retreive in case of failure\n",
    "test.to_csv('C:\\\\Term2\\\\Practicum\\\\cabdata_form.csv')\n",
    "test1 = test[['CALL_TYPE','ORIGIN_STAND','Start_Latitude','Start_Longitude','End_Latitude','End_Longitude','Fin_Day_Type','Time','Tot_Dist']].copy()\n",
    "test1.to_csv('C:\\\\Term2\\\\Practicum\\\\cabdata_form1.csv')\n",
    "\n",
    "#x1.to_csv('C:\\\\Term2\\\\Practicum\\\\x1.csv')"
   ]
  },
  {
   "cell_type": "markdown",
   "metadata": {},
   "source": [
    "Create cluster for end points for trips which originated from Taxi stand.\n",
    "Identify the clusters having max end points.\n",
    "Then create graphframe so that we can check the nearest stand IDs for a given stand ID, so that we can channelize the taxi's if required"
   ]
  },
  {
   "cell_type": "code",
   "execution_count": 220,
   "metadata": {},
   "outputs": [],
   "source": [
    "# Create subset data where trip orginated at stand between 10 to 11 AM on a working day\n",
    "test_wd_B=test.loc[(test['Fin_Day_Type']==\"A\")&(test['CALL_TYPE']==\"B\")&(test.index.hour>=10)&(test.index.hour<=11)]\n",
    "x2=test_wd_B.groupby(test_wd_B['ORIGIN_STAND']).agg({'TRIP_ID':[np.size],'Start_Latitude':[np.mean],'Start_Longitude':[np.mean]})\n",
    "#x2.to_csv('C:\\\\Term2\\\\Practicum\\\\stand_mean.csv')"
   ]
  },
  {
   "cell_type": "code",
   "execution_count": 13,
   "metadata": {},
   "outputs": [
    {
     "name": "stderr",
     "output_type": "stream",
     "text": [
      "C:\\Program Files (x86)\\Microsoft Visual Studio\\Shared\\Anaconda3_64\\lib\\site-packages\\ipykernel_launcher.py:4: SettingWithCopyWarning: \n",
      "A value is trying to be set on a copy of a slice from a DataFrame.\n",
      "Try using .loc[row_indexer,col_indexer] = value instead\n",
      "\n",
      "See the caveats in the documentation: http://pandas.pydata.org/pandas-docs/stable/user_guide/indexing.html#returning-a-view-versus-a-copy\n",
      "  after removing the cwd from sys.path.\n"
     ]
    }
   ],
   "source": [
    "## Cluster end lat/longs\n",
    "clus_stand=test_wd_B[['End_Latitude','End_Longitude']].copy()\n",
    "KM1 = KMeans(n_clusters = 10, max_iter = 300) \n",
    "KM1.fit(clus_stand) \n",
    "test_wd_B['Cluster_num']=KM1.labels_ "
   ]
  },
  {
   "cell_type": "code",
   "execution_count": 20,
   "metadata": {},
   "outputs": [
    {
     "data": {
      "text/plain": [
       "15.0    6953\n",
       "57.0    3994\n",
       "18.0    3652\n",
       "9.0     3315\n",
       "33.0    2455\n",
       "        ... \n",
       "43.0      52\n",
       "46.0      45\n",
       "8.0       32\n",
       "4.0       19\n",
       "5.0        2\n",
       "Name: ORIGIN_STAND, Length: 62, dtype: int64"
      ]
     },
     "execution_count": 20,
     "metadata": {},
     "output_type": "execute_result"
    }
   ],
   "source": [
    "## Busiest taxi stand during above time\n",
    "test_wd_B['ORIGIN_STAND'].value_counts()"
   ]
  },
  {
   "cell_type": "code",
   "execution_count": 14,
   "metadata": {},
   "outputs": [
    {
     "data": {
      "text/plain": [
       "2    29272\n",
       "4    13210\n",
       "3    12243\n",
       "5     2744\n",
       "0     2100\n",
       "8     1224\n",
       "1      604\n",
       "9       37\n",
       "6       12\n",
       "7        3\n",
       "Name: Cluster_num, dtype: int64"
      ]
     },
     "execution_count": 14,
     "metadata": {},
     "output_type": "execute_result"
    }
   ],
   "source": [
    "# Cluster ending with max number of rides\n",
    "test_wd_B['Cluster_num'].value_counts()"
   ]
  },
  {
   "cell_type": "code",
   "execution_count": 15,
   "metadata": {},
   "outputs": [
    {
     "name": "stderr",
     "output_type": "stream",
     "text": [
      "C:\\Program Files (x86)\\Microsoft Visual Studio\\Shared\\Anaconda3_64\\lib\\site-packages\\ipykernel_launcher.py:1: SettingWithCopyWarning: \n",
      "A value is trying to be set on a copy of a slice from a DataFrame.\n",
      "Try using .loc[row_indexer,col_indexer] = value instead\n",
      "\n",
      "See the caveats in the documentation: http://pandas.pydata.org/pandas-docs/stable/user_guide/indexing.html#returning-a-view-versus-a-copy\n",
      "  \"\"\"Entry point for launching an IPython kernel.\n",
      "C:\\Program Files (x86)\\Microsoft Visual Studio\\Shared\\Anaconda3_64\\lib\\site-packages\\ipykernel_launcher.py:2: SettingWithCopyWarning: \n",
      "A value is trying to be set on a copy of a slice from a DataFrame.\n",
      "Try using .loc[row_indexer,col_indexer] = value instead\n",
      "\n",
      "See the caveats in the documentation: http://pandas.pydata.org/pandas-docs/stable/user_guide/indexing.html#returning-a-view-versus-a-copy\n",
      "  \n",
      "C:\\Program Files (x86)\\Microsoft Visual Studio\\Shared\\Anaconda3_64\\lib\\site-packages\\ipykernel_launcher.py:5: SettingWithCopyWarning: \n",
      "A value is trying to be set on a copy of a slice from a DataFrame\n",
      "\n",
      "See the caveats in the documentation: http://pandas.pydata.org/pandas-docs/stable/user_guide/indexing.html#returning-a-view-versus-a-copy\n",
      "  \"\"\"\n",
      "C:\\Program Files (x86)\\Microsoft Visual Studio\\Shared\\Anaconda3_64\\lib\\site-packages\\pandas\\core\\generic.py:9114: SettingWithCopyWarning: \n",
      "A value is trying to be set on a copy of a slice from a DataFrame\n",
      "\n",
      "See the caveats in the documentation: http://pandas.pydata.org/pandas-docs/stable/user_guide/indexing.html#returning-a-view-versus-a-copy\n",
      "  self._update_inplace(new_data)\n",
      "C:\\Users\\sijwa\\AppData\\Roaming\\Python\\Python36\\site-packages\\IPython\\core\\interactiveshell.py:3326: SettingWithCopyWarning: \n",
      "A value is trying to be set on a copy of a slice from a DataFrame\n",
      "\n",
      "See the caveats in the documentation: http://pandas.pydata.org/pandas-docs/stable/user_guide/indexing.html#returning-a-view-versus-a-copy\n",
      "  exec(code_obj, self.user_global_ns, self.user_ns)\n",
      "C:\\Program Files (x86)\\Microsoft Visual Studio\\Shared\\Anaconda3_64\\lib\\site-packages\\ipykernel_launcher.py:6: SettingWithCopyWarning: \n",
      "A value is trying to be set on a copy of a slice from a DataFrame\n",
      "\n",
      "See the caveats in the documentation: http://pandas.pydata.org/pandas-docs/stable/user_guide/indexing.html#returning-a-view-versus-a-copy\n",
      "  \n",
      "C:\\Program Files (x86)\\Microsoft Visual Studio\\Shared\\Anaconda3_64\\lib\\site-packages\\pandas\\core\\generic.py:9114: SettingWithCopyWarning: \n",
      "A value is trying to be set on a copy of a slice from a DataFrame\n",
      "\n",
      "See the caveats in the documentation: http://pandas.pydata.org/pandas-docs/stable/user_guide/indexing.html#returning-a-view-versus-a-copy\n",
      "  self._update_inplace(new_data)\n",
      "C:\\Users\\sijwa\\AppData\\Roaming\\Python\\Python36\\site-packages\\IPython\\core\\interactiveshell.py:3326: SettingWithCopyWarning: \n",
      "A value is trying to be set on a copy of a slice from a DataFrame\n",
      "\n",
      "See the caveats in the documentation: http://pandas.pydata.org/pandas-docs/stable/user_guide/indexing.html#returning-a-view-versus-a-copy\n",
      "  exec(code_obj, self.user_global_ns, self.user_ns)\n",
      "C:\\Program Files (x86)\\Microsoft Visual Studio\\Shared\\Anaconda3_64\\lib\\site-packages\\ipykernel_launcher.py:5: SettingWithCopyWarning: \n",
      "A value is trying to be set on a copy of a slice from a DataFrame\n",
      "\n",
      "See the caveats in the documentation: http://pandas.pydata.org/pandas-docs/stable/user_guide/indexing.html#returning-a-view-versus-a-copy\n",
      "  \"\"\"\n",
      "C:\\Program Files (x86)\\Microsoft Visual Studio\\Shared\\Anaconda3_64\\lib\\site-packages\\ipykernel_launcher.py:6: SettingWithCopyWarning: \n",
      "A value is trying to be set on a copy of a slice from a DataFrame\n",
      "\n",
      "See the caveats in the documentation: http://pandas.pydata.org/pandas-docs/stable/user_guide/indexing.html#returning-a-view-versus-a-copy\n",
      "  \n"
     ]
    }
   ],
   "source": [
    "## Add end cluster centroid\n",
    "test_wd_B['Clus_Mean_Lat']=0\n",
    "test_wd_B['Clus_Mean_Lon']=0\n",
    "cent=KM1.cluster_centers_\n",
    "for i in range(10):\n",
    "    test_wd_B['Clus_Mean_Lat'][test_wd_B['Cluster_num']==i]=cent[i][0]\n",
    "    test_wd_B['Clus_Mean_Lon'][test_wd_B['Cluster_num']==i]=cent[i][1]"
   ]
  },
  {
   "cell_type": "code",
   "execution_count": 1,
   "metadata": {},
   "outputs": [],
   "source": [
    "## Create Graphframe for finding nearest taxi stand for a given taxi stand\n",
    "sqlContext = SQLContext(sc)\n",
    "df = sqlContext.read.load(\"C:\\\\Term2\\\\Practicum\\\\Create_Graph_Stand.csv\",format='com.databricks.spark.csv',header='true',inferSchema='true')"
   ]
  },
  {
   "cell_type": "code",
   "execution_count": 6,
   "metadata": {
    "collapsed": true
   },
   "outputs": [],
   "source": [
    "# Creating view \n",
    "df.createOrReplaceTempView(\"stand\")"
   ]
  },
  {
   "cell_type": "code",
   "execution_count": 13,
   "metadata": {
    "collapsed": true
   },
   "outputs": [],
   "source": [
    "dist_val = sqlContext.sql(\"SELECT * FROM stand\")"
   ]
  },
  {
   "cell_type": "code",
   "execution_count": 10,
   "metadata": {},
   "outputs": [
    {
     "name": "stdout",
     "output_type": "stream",
     "text": [
      "+----------+-----------+------------+\n",
      "|Station_ID|        Lat|        Long|\n",
      "+----------+-----------+------------+\n",
      "|         1|41.17725642|-8.621450848|\n",
      "|         2|41.15619782|-8.607173383|\n",
      "|         3|41.17066149|-8.637648806|\n",
      "|         4|  41.143676|  -8.6348005|\n",
      "|         5| 41.1836265|    -8.66007|\n",
      "|         6|41.18404131| -8.59773778|\n",
      "|         7|  41.159751|-8.630141216|\n",
      "|         8|41.15162468|-8.580584032|\n",
      "|         9|41.14464654| -8.62151382|\n",
      "|        10|41.15027338|-8.615613631|\n",
      "+----------+-----------+------------+\n",
      "only showing top 10 rows\n",
      "\n"
     ]
    }
   ],
   "source": [
    "dist_val.show(10)"
   ]
  },
  {
   "cell_type": "code",
   "execution_count": 12,
   "metadata": {},
   "outputs": [],
   "source": [
    "#Creating list for all values\n",
    "\n",
    "lat_list = list(\n",
    "    dist_val.select('Lat').toPandas()['Lat']\n",
    ")\n",
    "long_list = list(\n",
    "    dist_val.select('Long').toPandas()['Long']\n",
    ")\n",
    "st_id_list = list(\n",
    "    dist_val.select('Station_ID').toPandas()['Station_ID']\n",
    ")\n"
   ]
  },
  {
   "cell_type": "code",
   "execution_count": 14,
   "metadata": {
    "collapsed": true
   },
   "outputs": [],
   "source": [
    "# creating values for edges \n",
    "src=[]\n",
    "dest=[]\n",
    "dis=[]\n",
    "i=0\n",
    "while i<(len(st_id_list)-1):\n",
    "    j=i+1\n",
    "    while j<=(len(st_id_list)-1):\n",
    "        dist = get_dist(lat_list[i],long_list[i],lat_list[j],long_list[j])\n",
    "        src.append(st_id_list[i])\n",
    "        dest.append(st_id_list[j])\n",
    "        dis.append(dist)\n",
    "        \n",
    "            \n",
    "        j=j+1\n",
    "    i=i+1"
   ]
  },
  {
   "cell_type": "code",
   "execution_count": 17,
   "metadata": {
    "collapsed": true
   },
   "outputs": [],
   "source": [
    "#Creating edges dataframe\n",
    "from pyspark.sql.types import *\n",
    "Schema = StructType([StructField(\"src\", StringType())\\\n",
    "                      ,StructField(\"dst\", StringType())\\\n",
    "                      ,StructField(\"Distance\", FloatType())])\n",
    "\n",
    "edge_list = zip(src, dest,dis)\n",
    "\n",
    "df_edges = sqlContext.createDataFrame(edge_list,Schema) "
   ]
  },
  {
   "cell_type": "code",
   "execution_count": 18,
   "metadata": {
    "collapsed": true
   },
   "outputs": [],
   "source": [
    "# Creating vertices Dataframe\n",
    "Schema2 = StructType([StructField(\"id\", StringType())\\\n",
    "                      ,StructField(\"Lat\", FloatType())\\\n",
    "                      ,StructField(\"Lon\", FloatType())])\n",
    "\n",
    "vert_list = zip(st_id_list, lat_list,long_list)\n",
    "\n",
    "df_vertices = sqlContext.createDataFrame(vert_list,Schema2) "
   ]
  },
  {
   "cell_type": "code",
   "execution_count": 19,
   "metadata": {},
   "outputs": [
    {
     "name": "stdout",
     "output_type": "stream",
     "text": [
      "+---+---+---------+\n",
      "|src|dst| Distance|\n",
      "+---+---+---------+\n",
      "|  1|  2|2807.2295|\n",
      "|  1|  3|1941.5786|\n",
      "|  1|  4|3978.9746|\n",
      "|  1|  5| 4350.978|\n",
      "|  1|  6| 2740.256|\n",
      "|  1|  7| 2153.479|\n",
      "|  1|  8| 5347.064|\n",
      "|  1|  9|3585.0864|\n",
      "|  1| 10|3036.6748|\n",
      "|  1| 11|1170.8577|\n",
      "+---+---+---------+\n",
      "only showing top 10 rows\n",
      "\n"
     ]
    }
   ],
   "source": [
    "df_edges.show(10)"
   ]
  },
  {
   "cell_type": "code",
   "execution_count": 20,
   "metadata": {},
   "outputs": [
    {
     "name": "stdout",
     "output_type": "stream",
     "text": [
      "+---+---------+---------+\n",
      "| id|      Lat|      Lon|\n",
      "+---+---------+---------+\n",
      "|  1|41.177258| -8.62145|\n",
      "|  2|41.156197|-8.607173|\n",
      "|  3|41.170662|-8.637649|\n",
      "|  4|41.143677|-8.634801|\n",
      "|  5|41.183628| -8.66007|\n",
      "|  6| 41.18404|-8.597737|\n",
      "|  7| 41.15975|-8.630141|\n",
      "|  8|41.151627|-8.580584|\n",
      "|  9|41.144646|-8.621513|\n",
      "| 10|41.150272|-8.615614|\n",
      "+---+---------+---------+\n",
      "only showing top 10 rows\n",
      "\n"
     ]
    }
   ],
   "source": [
    "df_vertices.show(10)"
   ]
  },
  {
   "cell_type": "code",
   "execution_count": 21,
   "metadata": {
    "collapsed": true
   },
   "outputs": [],
   "source": [
    "g = GraphFrame(df_vertices, df_edges)"
   ]
  },
  {
   "cell_type": "code",
   "execution_count": 29,
   "metadata": {
    "collapsed": true
   },
   "outputs": [],
   "source": [
    "paths = g.find(\"(a)-[e]->(b)\").filter(\"e.Distance < 500\").filter(\"a.id=15\")"
   ]
  },
  {
   "cell_type": "code",
   "execution_count": 35,
   "metadata": {},
   "outputs": [
    {
     "data": {
      "text/html": [
       "<div>\n",
       "<style scoped>\n",
       "    .dataframe tbody tr th:only-of-type {\n",
       "        vertical-align: middle;\n",
       "    }\n",
       "\n",
       "    .dataframe tbody tr th {\n",
       "        vertical-align: top;\n",
       "    }\n",
       "\n",
       "    .dataframe thead th {\n",
       "        text-align: right;\n",
       "    }\n",
       "</style>\n",
       "<table border=\"1\" class=\"dataframe\">\n",
       "  <thead>\n",
       "    <tr style=\"text-align: right;\">\n",
       "      <th></th>\n",
       "      <th>src</th>\n",
       "      <th>dst</th>\n",
       "      <th>Distance</th>\n",
       "    </tr>\n",
       "  </thead>\n",
       "  <tbody>\n",
       "    <tr>\n",
       "      <th>1</th>\n",
       "      <td>15</td>\n",
       "      <td>27</td>\n",
       "      <td>153.358124</td>\n",
       "    </tr>\n",
       "    <tr>\n",
       "      <th>4</th>\n",
       "      <td>15</td>\n",
       "      <td>44</td>\n",
       "      <td>166.995300</td>\n",
       "    </tr>\n",
       "    <tr>\n",
       "      <th>2</th>\n",
       "      <td>15</td>\n",
       "      <td>60</td>\n",
       "      <td>300.865967</td>\n",
       "    </tr>\n",
       "    <tr>\n",
       "      <th>3</th>\n",
       "      <td>15</td>\n",
       "      <td>23</td>\n",
       "      <td>336.484955</td>\n",
       "    </tr>\n",
       "    <tr>\n",
       "      <th>0</th>\n",
       "      <td>15</td>\n",
       "      <td>18</td>\n",
       "      <td>448.480255</td>\n",
       "    </tr>\n",
       "  </tbody>\n",
       "</table>\n",
       "</div>"
      ],
      "text/plain": [
       "  src dst    Distance\n",
       "1  15  27  153.358124\n",
       "4  15  44  166.995300\n",
       "2  15  60  300.865967\n",
       "3  15  23  336.484955\n",
       "0  15  18  448.480255"
      ]
     },
     "execution_count": 35,
     "metadata": {},
     "output_type": "execute_result"
    }
   ],
   "source": [
    "e2 = paths.select(\"e.src\", \"e.dst\", \"e.Distance\")\n",
    "display = e2.toPandas()\n",
    "display.sort_values('Distance')"
   ]
  },
  {
   "cell_type": "markdown",
   "metadata": {},
   "source": [
    "Finding the best location where taxis can be placed between 4-6 AM on Holidays."
   ]
  },
  {
   "cell_type": "code",
   "execution_count": 21,
   "metadata": {},
   "outputs": [],
   "source": [
    "#Subset Data\n",
    "test_Hol_C=test.loc[(test['Fin_Day_Type']==\"C\")&(test['CALL_TYPE']==\"C\")&(test.index.hour>=4)&(test.index.hour<=6)]"
   ]
  },
  {
   "cell_type": "code",
   "execution_count": 24,
   "metadata": {},
   "outputs": [
    {
     "name": "stderr",
     "output_type": "stream",
     "text": [
      "C:\\Program Files (x86)\\Microsoft Visual Studio\\Shared\\Anaconda3_64\\lib\\site-packages\\ipykernel_launcher.py:4: SettingWithCopyWarning: \n",
      "A value is trying to be set on a copy of a slice from a DataFrame.\n",
      "Try using .loc[row_indexer,col_indexer] = value instead\n",
      "\n",
      "See the caveats in the documentation: http://pandas.pydata.org/pandas-docs/stable/user_guide/indexing.html#returning-a-view-versus-a-copy\n",
      "  after removing the cwd from sys.path.\n"
     ]
    }
   ],
   "source": [
    "##Cluster\n",
    "clus_taxi=test_Hol_C[['Start_Latitude','Start_Longitude']].copy()\n",
    "KM2 = KMeans(n_clusters = 10, max_iter = 300) \n",
    "KM2.fit(clus_taxi) \n",
    "test_Hol_C['Cluster_num']=KM2.labels_ "
   ]
  },
  {
   "cell_type": "code",
   "execution_count": 27,
   "metadata": {},
   "outputs": [
    {
     "name": "stderr",
     "output_type": "stream",
     "text": [
      "C:\\Program Files (x86)\\Microsoft Visual Studio\\Shared\\Anaconda3_64\\lib\\site-packages\\ipykernel_launcher.py:1: SettingWithCopyWarning: \n",
      "A value is trying to be set on a copy of a slice from a DataFrame.\n",
      "Try using .loc[row_indexer,col_indexer] = value instead\n",
      "\n",
      "See the caveats in the documentation: http://pandas.pydata.org/pandas-docs/stable/user_guide/indexing.html#returning-a-view-versus-a-copy\n",
      "  \"\"\"Entry point for launching an IPython kernel.\n",
      "C:\\Program Files (x86)\\Microsoft Visual Studio\\Shared\\Anaconda3_64\\lib\\site-packages\\ipykernel_launcher.py:2: SettingWithCopyWarning: \n",
      "A value is trying to be set on a copy of a slice from a DataFrame.\n",
      "Try using .loc[row_indexer,col_indexer] = value instead\n",
      "\n",
      "See the caveats in the documentation: http://pandas.pydata.org/pandas-docs/stable/user_guide/indexing.html#returning-a-view-versus-a-copy\n",
      "  \n",
      "C:\\Program Files (x86)\\Microsoft Visual Studio\\Shared\\Anaconda3_64\\lib\\site-packages\\ipykernel_launcher.py:5: SettingWithCopyWarning: \n",
      "A value is trying to be set on a copy of a slice from a DataFrame\n",
      "\n",
      "See the caveats in the documentation: http://pandas.pydata.org/pandas-docs/stable/user_guide/indexing.html#returning-a-view-versus-a-copy\n",
      "  \"\"\"\n",
      "C:\\Program Files (x86)\\Microsoft Visual Studio\\Shared\\Anaconda3_64\\lib\\site-packages\\pandas\\core\\generic.py:9114: SettingWithCopyWarning: \n",
      "A value is trying to be set on a copy of a slice from a DataFrame\n",
      "\n",
      "See the caveats in the documentation: http://pandas.pydata.org/pandas-docs/stable/user_guide/indexing.html#returning-a-view-versus-a-copy\n",
      "  self._update_inplace(new_data)\n",
      "C:\\Users\\sijwa\\AppData\\Roaming\\Python\\Python36\\site-packages\\IPython\\core\\interactiveshell.py:3326: SettingWithCopyWarning: \n",
      "A value is trying to be set on a copy of a slice from a DataFrame\n",
      "\n",
      "See the caveats in the documentation: http://pandas.pydata.org/pandas-docs/stable/user_guide/indexing.html#returning-a-view-versus-a-copy\n",
      "  exec(code_obj, self.user_global_ns, self.user_ns)\n",
      "C:\\Program Files (x86)\\Microsoft Visual Studio\\Shared\\Anaconda3_64\\lib\\site-packages\\ipykernel_launcher.py:6: SettingWithCopyWarning: \n",
      "A value is trying to be set on a copy of a slice from a DataFrame\n",
      "\n",
      "See the caveats in the documentation: http://pandas.pydata.org/pandas-docs/stable/user_guide/indexing.html#returning-a-view-versus-a-copy\n",
      "  \n",
      "C:\\Program Files (x86)\\Microsoft Visual Studio\\Shared\\Anaconda3_64\\lib\\site-packages\\pandas\\core\\generic.py:9114: SettingWithCopyWarning: \n",
      "A value is trying to be set on a copy of a slice from a DataFrame\n",
      "\n",
      "See the caveats in the documentation: http://pandas.pydata.org/pandas-docs/stable/user_guide/indexing.html#returning-a-view-versus-a-copy\n",
      "  self._update_inplace(new_data)\n",
      "C:\\Users\\sijwa\\AppData\\Roaming\\Python\\Python36\\site-packages\\IPython\\core\\interactiveshell.py:3326: SettingWithCopyWarning: \n",
      "A value is trying to be set on a copy of a slice from a DataFrame\n",
      "\n",
      "See the caveats in the documentation: http://pandas.pydata.org/pandas-docs/stable/user_guide/indexing.html#returning-a-view-versus-a-copy\n",
      "  exec(code_obj, self.user_global_ns, self.user_ns)\n",
      "C:\\Program Files (x86)\\Microsoft Visual Studio\\Shared\\Anaconda3_64\\lib\\site-packages\\ipykernel_launcher.py:5: SettingWithCopyWarning: \n",
      "A value is trying to be set on a copy of a slice from a DataFrame\n",
      "\n",
      "See the caveats in the documentation: http://pandas.pydata.org/pandas-docs/stable/user_guide/indexing.html#returning-a-view-versus-a-copy\n",
      "  \"\"\"\n",
      "C:\\Program Files (x86)\\Microsoft Visual Studio\\Shared\\Anaconda3_64\\lib\\site-packages\\ipykernel_launcher.py:6: SettingWithCopyWarning: \n",
      "A value is trying to be set on a copy of a slice from a DataFrame\n",
      "\n",
      "See the caveats in the documentation: http://pandas.pydata.org/pandas-docs/stable/user_guide/indexing.html#returning-a-view-versus-a-copy\n",
      "  \n"
     ]
    }
   ],
   "source": [
    "test_Hol_C['Clus_Mean_Lat']=0\n",
    "test_Hol_C['Clus_Mean_Lon']=0\n",
    "cent2=KM2.cluster_centers_\n",
    "for i in range(10):\n",
    "    test_Hol_C['Clus_Mean_Lat'][test_Hol_C['Cluster_num']==i]=cent2[i][0]\n",
    "    test_Hol_C['Clus_Mean_Lon'][test_Hol_C['Cluster_num']==i]=cent2[i][1]"
   ]
  },
  {
   "cell_type": "code",
   "execution_count": 29,
   "metadata": {},
   "outputs": [],
   "source": [
    "test_Hol_C.to_csv('C:\\\\Term2\\\\Practicum\\\\hol_start.csv')"
   ]
  },
  {
   "cell_type": "code",
   "execution_count": 30,
   "metadata": {},
   "outputs": [
    {
     "data": {
      "text/plain": [
       "2    41770\n",
       "8    10704\n",
       "0     5469\n",
       "9     3441\n",
       "3     3033\n",
       "4     2459\n",
       "5      382\n",
       "1      199\n",
       "7       28\n",
       "6        2\n",
       "Name: Cluster_num, dtype: int64"
      ]
     },
     "execution_count": 30,
     "metadata": {},
     "output_type": "execute_result"
    }
   ],
   "source": [
    "## Which cluster having max rides\n",
    "test_Hol_C['Cluster_num'].value_counts()"
   ]
  },
  {
   "cell_type": "markdown",
   "metadata": {},
   "source": [
    "Clustering the locations where people are calling for taxi and finding optimum number pf taxis and location for each cluster"
   ]
  },
  {
   "cell_type": "code",
   "execution_count": 31,
   "metadata": {},
   "outputs": [],
   "source": [
    "call_taxi=test.loc[(test['CALL_TYPE']=='A')&(test['Fin_Day_Type']=='A')]"
   ]
  },
  {
   "cell_type": "code",
   "execution_count": 32,
   "metadata": {},
   "outputs": [
    {
     "name": "stderr",
     "output_type": "stream",
     "text": [
      "C:\\Program Files (x86)\\Microsoft Visual Studio\\Shared\\Anaconda3_64\\lib\\site-packages\\ipykernel_launcher.py:4: SettingWithCopyWarning: \n",
      "A value is trying to be set on a copy of a slice from a DataFrame.\n",
      "Try using .loc[row_indexer,col_indexer] = value instead\n",
      "\n",
      "See the caveats in the documentation: http://pandas.pydata.org/pandas-docs/stable/user_guide/indexing.html#returning-a-view-versus-a-copy\n",
      "  after removing the cwd from sys.path.\n"
     ]
    }
   ],
   "source": [
    "## Cluster\n",
    "X2=call_taxi[['Start_Latitude','Start_Longitude']].copy()\n",
    "KM3 = KMeans(n_clusters = 13, max_iter = 300) \n",
    "KM3.fit(X2) \n",
    "call_taxi['Cluster_num']=KM3.labels_ \n",
    "cent3=KM3.cluster_centers_"
   ]
  },
  {
   "cell_type": "code",
   "execution_count": 33,
   "metadata": {},
   "outputs": [
    {
     "name": "stderr",
     "output_type": "stream",
     "text": [
      "C:\\Program Files (x86)\\Microsoft Visual Studio\\Shared\\Anaconda3_64\\lib\\site-packages\\ipykernel_launcher.py:1: SettingWithCopyWarning: \n",
      "A value is trying to be set on a copy of a slice from a DataFrame.\n",
      "Try using .loc[row_indexer,col_indexer] = value instead\n",
      "\n",
      "See the caveats in the documentation: http://pandas.pydata.org/pandas-docs/stable/user_guide/indexing.html#returning-a-view-versus-a-copy\n",
      "  \"\"\"Entry point for launching an IPython kernel.\n",
      "C:\\Program Files (x86)\\Microsoft Visual Studio\\Shared\\Anaconda3_64\\lib\\site-packages\\ipykernel_launcher.py:2: SettingWithCopyWarning: \n",
      "A value is trying to be set on a copy of a slice from a DataFrame.\n",
      "Try using .loc[row_indexer,col_indexer] = value instead\n",
      "\n",
      "See the caveats in the documentation: http://pandas.pydata.org/pandas-docs/stable/user_guide/indexing.html#returning-a-view-versus-a-copy\n",
      "  \n",
      "C:\\Program Files (x86)\\Microsoft Visual Studio\\Shared\\Anaconda3_64\\lib\\site-packages\\ipykernel_launcher.py:4: SettingWithCopyWarning: \n",
      "A value is trying to be set on a copy of a slice from a DataFrame\n",
      "\n",
      "See the caveats in the documentation: http://pandas.pydata.org/pandas-docs/stable/user_guide/indexing.html#returning-a-view-versus-a-copy\n",
      "  after removing the cwd from sys.path.\n",
      "C:\\Program Files (x86)\\Microsoft Visual Studio\\Shared\\Anaconda3_64\\lib\\site-packages\\pandas\\core\\generic.py:9114: SettingWithCopyWarning: \n",
      "A value is trying to be set on a copy of a slice from a DataFrame\n",
      "\n",
      "See the caveats in the documentation: http://pandas.pydata.org/pandas-docs/stable/user_guide/indexing.html#returning-a-view-versus-a-copy\n",
      "  self._update_inplace(new_data)\n",
      "C:\\Users\\sijwa\\AppData\\Roaming\\Python\\Python36\\site-packages\\IPython\\core\\interactiveshell.py:3326: SettingWithCopyWarning: \n",
      "A value is trying to be set on a copy of a slice from a DataFrame\n",
      "\n",
      "See the caveats in the documentation: http://pandas.pydata.org/pandas-docs/stable/user_guide/indexing.html#returning-a-view-versus-a-copy\n",
      "  exec(code_obj, self.user_global_ns, self.user_ns)\n",
      "C:\\Program Files (x86)\\Microsoft Visual Studio\\Shared\\Anaconda3_64\\lib\\site-packages\\ipykernel_launcher.py:5: SettingWithCopyWarning: \n",
      "A value is trying to be set on a copy of a slice from a DataFrame\n",
      "\n",
      "See the caveats in the documentation: http://pandas.pydata.org/pandas-docs/stable/user_guide/indexing.html#returning-a-view-versus-a-copy\n",
      "  \"\"\"\n",
      "C:\\Program Files (x86)\\Microsoft Visual Studio\\Shared\\Anaconda3_64\\lib\\site-packages\\pandas\\core\\generic.py:9114: SettingWithCopyWarning: \n",
      "A value is trying to be set on a copy of a slice from a DataFrame\n",
      "\n",
      "See the caveats in the documentation: http://pandas.pydata.org/pandas-docs/stable/user_guide/indexing.html#returning-a-view-versus-a-copy\n",
      "  self._update_inplace(new_data)\n",
      "C:\\Users\\sijwa\\AppData\\Roaming\\Python\\Python36\\site-packages\\IPython\\core\\interactiveshell.py:3326: SettingWithCopyWarning: \n",
      "A value is trying to be set on a copy of a slice from a DataFrame\n",
      "\n",
      "See the caveats in the documentation: http://pandas.pydata.org/pandas-docs/stable/user_guide/indexing.html#returning-a-view-versus-a-copy\n",
      "  exec(code_obj, self.user_global_ns, self.user_ns)\n",
      "C:\\Program Files (x86)\\Microsoft Visual Studio\\Shared\\Anaconda3_64\\lib\\site-packages\\ipykernel_launcher.py:4: SettingWithCopyWarning: \n",
      "A value is trying to be set on a copy of a slice from a DataFrame\n",
      "\n",
      "See the caveats in the documentation: http://pandas.pydata.org/pandas-docs/stable/user_guide/indexing.html#returning-a-view-versus-a-copy\n",
      "  after removing the cwd from sys.path.\n",
      "C:\\Program Files (x86)\\Microsoft Visual Studio\\Shared\\Anaconda3_64\\lib\\site-packages\\ipykernel_launcher.py:5: SettingWithCopyWarning: \n",
      "A value is trying to be set on a copy of a slice from a DataFrame\n",
      "\n",
      "See the caveats in the documentation: http://pandas.pydata.org/pandas-docs/stable/user_guide/indexing.html#returning-a-view-versus-a-copy\n",
      "  \"\"\"\n"
     ]
    }
   ],
   "source": [
    "call_taxi['Clus_Mean_Lat']=0\n",
    "call_taxi['Clus_Mean_Lon']=0\n",
    "for i in range(13):\n",
    "    call_taxi['Clus_Mean_Lat'][call_taxi['Cluster_num']==i]=cent3[i][0]\n",
    "    call_taxi['Clus_Mean_Lon'][call_taxi['Cluster_num']==i]=cent3[i][1]"
   ]
  },
  {
   "cell_type": "code",
   "execution_count": 34,
   "metadata": {},
   "outputs": [],
   "source": [
    "call_taxi.to_csv('C:\\\\Term2\\\\Practicum\\\\call_taxi.csv')"
   ]
  },
  {
   "cell_type": "code",
   "execution_count": 39,
   "metadata": {},
   "outputs": [
    {
     "data": {
      "text/plain": [
       "array([4])"
      ]
     },
     "execution_count": 39,
     "metadata": {},
     "output_type": "execute_result"
    }
   ],
   "source": [
    "#Predict cluster of a new point\n",
    "KM3.predict([[41.160087,-8.680554]])"
   ]
  },
  {
   "cell_type": "code",
   "execution_count": 41,
   "metadata": {},
   "outputs": [
    {
     "data": {
      "text/plain": [
       "-8.678629448814613"
      ]
     },
     "execution_count": 41,
     "metadata": {},
     "output_type": "execute_result"
    }
   ],
   "source": [
    "#find the cluster mean\n",
    "cent3[4][1]"
   ]
  },
  {
   "cell_type": "code",
   "execution_count": 44,
   "metadata": {},
   "outputs": [],
   "source": [
    "#Cluster 12 and 2 are cliques for cluster 4, find min distance\n",
    "x1=get_dist(-8.680554,41.160087,cent3[4][1],cent3[4][0])+get_dist(-8.680554,41.160087,cent3[12][1],cent3[12][0])\n",
    "x2=get_dist(-8.680554,41.160087,cent3[4][1],cent3[4][0])+get_dist(-8.680554,41.160087,cent3[2][1],cent3[2][0])"
   ]
  },
  {
   "cell_type": "code",
   "execution_count": 45,
   "metadata": {},
   "outputs": [
    {
     "data": {
      "text/plain": [
       "-1249.6899999999998"
      ]
     },
     "execution_count": 45,
     "metadata": {},
     "output_type": "execute_result"
    }
   ],
   "source": [
    "#find the min\n",
    "x1-x2"
   ]
  },
  {
   "cell_type": "markdown",
   "metadata": {},
   "source": [
    "Breakdown and no-ride Analysis"
   ]
  },
  {
   "cell_type": "code",
   "execution_count": 48,
   "metadata": {},
   "outputs": [],
   "source": [
    "## Find the cases where trip do not commence\n",
    "no_start=test.loc[((test['Start_Latitude']==0) | (test['End_Latitude']==0))&(test['MISSING_DATA']==False)]"
   ]
  },
  {
   "cell_type": "code",
   "execution_count": 66,
   "metadata": {},
   "outputs": [
    {
     "data": {
      "text/plain": [
       "94.29565217391304"
      ]
     },
     "execution_count": 66,
     "metadata": {},
     "output_type": "execute_result"
    }
   ],
   "source": [
    "no_start[no_start['Fin_Day_Type']=='C'].shape[0]/l3"
   ]
  },
  {
   "cell_type": "code",
   "execution_count": 49,
   "metadata": {},
   "outputs": [],
   "source": [
    "no_start1_1= no_start1.loc[no_start['Start_Latitude']!=0]"
   ]
  },
  {
   "cell_type": "code",
   "execution_count": 57,
   "metadata": {},
   "outputs": [
    {
     "data": {
      "text/html": [
       "<div>\n",
       "<style scoped>\n",
       "    .dataframe tbody tr th:only-of-type {\n",
       "        vertical-align: middle;\n",
       "    }\n",
       "\n",
       "    .dataframe tbody tr th {\n",
       "        vertical-align: top;\n",
       "    }\n",
       "\n",
       "    .dataframe thead th {\n",
       "        text-align: right;\n",
       "    }\n",
       "</style>\n",
       "<table border=\"1\" class=\"dataframe\">\n",
       "  <thead>\n",
       "    <tr style=\"text-align: right;\">\n",
       "      <th></th>\n",
       "      <th>ORIGIN_STAND</th>\n",
       "    </tr>\n",
       "  </thead>\n",
       "  <tbody>\n",
       "    <tr>\n",
       "      <td>62.0</td>\n",
       "      <td>264</td>\n",
       "    </tr>\n",
       "    <tr>\n",
       "      <td>53.0</td>\n",
       "      <td>213</td>\n",
       "    </tr>\n",
       "    <tr>\n",
       "      <td>57.0</td>\n",
       "      <td>142</td>\n",
       "    </tr>\n",
       "    <tr>\n",
       "      <td>10.0</td>\n",
       "      <td>120</td>\n",
       "    </tr>\n",
       "  </tbody>\n",
       "</table>\n",
       "</div>"
      ],
      "text/plain": [
       "      ORIGIN_STAND\n",
       "62.0           264\n",
       "53.0           213\n",
       "57.0           142\n",
       "10.0           120"
      ]
     },
     "execution_count": 57,
     "metadata": {},
     "output_type": "execute_result"
    }
   ],
   "source": [
    "xx=pd.DataFrame(test[(test['Start_Latitude']==0)&(test['CALL_TYPE']=='B')&(test['MISSING_DATA']==False)]['ORIGIN_STAND'].value_counts())\n",
    "xx[xx['ORIGIN_STAND']>100]"
   ]
  },
  {
   "cell_type": "code",
   "execution_count": 511,
   "metadata": {},
   "outputs": [],
   "source": [
    "no_start1_2= no_start1.loc[(no_start1['Start_Latitude']!=0)&(no_start1['CALL_TYPE']=='C')]"
   ]
  },
  {
   "cell_type": "code",
   "execution_count": 71,
   "metadata": {},
   "outputs": [
    {
     "data": {
      "text/plain": [
       "<matplotlib.axes._subplots.AxesSubplot at 0x1d62952a2b0>"
      ]
     },
     "execution_count": 71,
     "metadata": {},
     "output_type": "execute_result"
    },
    {
     "data": {
      "image/png": "[encoded data removed]",
      "text/plain": [
       "<Figure size 432x288 with 1 Axes>"
      ]
     },
     "metadata": {
      "needs_background": "light"
     },
     "output_type": "display_data"
    }
   ],
   "source": [
    "def f(x):\n",
    "    return Series(dict(Number_Trips = x['TRIP_ID'].count()/365)) \n",
    "\n",
    "Day_count_A = no_start.groupby(no_start.index.hour).apply(f)\n",
    "Day_count_A['Number_Trips'].plot(kind='bar')"
   ]
  },
  {
   "cell_type": "code",
   "execution_count": 74,
   "metadata": {},
   "outputs": [],
   "source": [
    "no_start1=no_start.loc[(no_start.index.hour>=14)&(no_start.index.hour<=18)&(no_start['Start_Latitude']!=0)]"
   ]
  },
  {
   "cell_type": "code",
   "execution_count": 76,
   "metadata": {},
   "outputs": [
    {
     "name": "stderr",
     "output_type": "stream",
     "text": [
      "C:\\Program Files (x86)\\Microsoft Visual Studio\\Shared\\Anaconda3_64\\lib\\site-packages\\ipykernel_launcher.py:4: SettingWithCopyWarning: \n",
      "A value is trying to be set on a copy of a slice from a DataFrame.\n",
      "Try using .loc[row_indexer,col_indexer] = value instead\n",
      "\n",
      "See the caveats in the documentation: http://pandas.pydata.org/pandas-docs/stable/user_guide/indexing.html#returning-a-view-versus-a-copy\n",
      "  after removing the cwd from sys.path.\n"
     ]
    }
   ],
   "source": [
    "X3=no_start1[['Start_Latitude','Start_Longitude']].copy()\n",
    "KM4 = KMeans(n_clusters = 10, max_iter = 300) \n",
    "KM4.fit(X3) \n",
    "no_start1['Cluster_num']=KM4.labels_ \n",
    "cent4=KM4.cluster_centers_"
   ]
  },
  {
   "cell_type": "code",
   "execution_count": 78,
   "metadata": {},
   "outputs": [
    {
     "name": "stderr",
     "output_type": "stream",
     "text": [
      "C:\\Program Files (x86)\\Microsoft Visual Studio\\Shared\\Anaconda3_64\\lib\\site-packages\\ipykernel_launcher.py:1: SettingWithCopyWarning: \n",
      "A value is trying to be set on a copy of a slice from a DataFrame.\n",
      "Try using .loc[row_indexer,col_indexer] = value instead\n",
      "\n",
      "See the caveats in the documentation: http://pandas.pydata.org/pandas-docs/stable/user_guide/indexing.html#returning-a-view-versus-a-copy\n",
      "  \"\"\"Entry point for launching an IPython kernel.\n",
      "C:\\Program Files (x86)\\Microsoft Visual Studio\\Shared\\Anaconda3_64\\lib\\site-packages\\ipykernel_launcher.py:2: SettingWithCopyWarning: \n",
      "A value is trying to be set on a copy of a slice from a DataFrame.\n",
      "Try using .loc[row_indexer,col_indexer] = value instead\n",
      "\n",
      "See the caveats in the documentation: http://pandas.pydata.org/pandas-docs/stable/user_guide/indexing.html#returning-a-view-versus-a-copy\n",
      "  \n",
      "C:\\Program Files (x86)\\Microsoft Visual Studio\\Shared\\Anaconda3_64\\lib\\site-packages\\ipykernel_launcher.py:4: SettingWithCopyWarning: \n",
      "A value is trying to be set on a copy of a slice from a DataFrame\n",
      "\n",
      "See the caveats in the documentation: http://pandas.pydata.org/pandas-docs/stable/user_guide/indexing.html#returning-a-view-versus-a-copy\n",
      "  after removing the cwd from sys.path.\n",
      "C:\\Program Files (x86)\\Microsoft Visual Studio\\Shared\\Anaconda3_64\\lib\\site-packages\\pandas\\core\\generic.py:9114: SettingWithCopyWarning: \n",
      "A value is trying to be set on a copy of a slice from a DataFrame\n",
      "\n",
      "See the caveats in the documentation: http://pandas.pydata.org/pandas-docs/stable/user_guide/indexing.html#returning-a-view-versus-a-copy\n",
      "  self._update_inplace(new_data)\n",
      "C:\\Users\\sijwa\\AppData\\Roaming\\Python\\Python36\\site-packages\\IPython\\core\\interactiveshell.py:3326: SettingWithCopyWarning: \n",
      "A value is trying to be set on a copy of a slice from a DataFrame\n",
      "\n",
      "See the caveats in the documentation: http://pandas.pydata.org/pandas-docs/stable/user_guide/indexing.html#returning-a-view-versus-a-copy\n",
      "  exec(code_obj, self.user_global_ns, self.user_ns)\n",
      "C:\\Program Files (x86)\\Microsoft Visual Studio\\Shared\\Anaconda3_64\\lib\\site-packages\\ipykernel_launcher.py:5: SettingWithCopyWarning: \n",
      "A value is trying to be set on a copy of a slice from a DataFrame\n",
      "\n",
      "See the caveats in the documentation: http://pandas.pydata.org/pandas-docs/stable/user_guide/indexing.html#returning-a-view-versus-a-copy\n",
      "  \"\"\"\n",
      "C:\\Program Files (x86)\\Microsoft Visual Studio\\Shared\\Anaconda3_64\\lib\\site-packages\\pandas\\core\\generic.py:9114: SettingWithCopyWarning: \n",
      "A value is trying to be set on a copy of a slice from a DataFrame\n",
      "\n",
      "See the caveats in the documentation: http://pandas.pydata.org/pandas-docs/stable/user_guide/indexing.html#returning-a-view-versus-a-copy\n",
      "  self._update_inplace(new_data)\n",
      "C:\\Users\\sijwa\\AppData\\Roaming\\Python\\Python36\\site-packages\\IPython\\core\\interactiveshell.py:3326: SettingWithCopyWarning: \n",
      "A value is trying to be set on a copy of a slice from a DataFrame\n",
      "\n",
      "See the caveats in the documentation: http://pandas.pydata.org/pandas-docs/stable/user_guide/indexing.html#returning-a-view-versus-a-copy\n",
      "  exec(code_obj, self.user_global_ns, self.user_ns)\n",
      "C:\\Program Files (x86)\\Microsoft Visual Studio\\Shared\\Anaconda3_64\\lib\\site-packages\\ipykernel_launcher.py:4: SettingWithCopyWarning: \n",
      "A value is trying to be set on a copy of a slice from a DataFrame\n",
      "\n",
      "See the caveats in the documentation: http://pandas.pydata.org/pandas-docs/stable/user_guide/indexing.html#returning-a-view-versus-a-copy\n",
      "  after removing the cwd from sys.path.\n",
      "C:\\Program Files (x86)\\Microsoft Visual Studio\\Shared\\Anaconda3_64\\lib\\site-packages\\ipykernel_launcher.py:5: SettingWithCopyWarning: \n",
      "A value is trying to be set on a copy of a slice from a DataFrame\n",
      "\n",
      "See the caveats in the documentation: http://pandas.pydata.org/pandas-docs/stable/user_guide/indexing.html#returning-a-view-versus-a-copy\n",
      "  \"\"\"\n"
     ]
    }
   ],
   "source": [
    "no_start1['Clus_Mean_Lat']=0\n",
    "no_start1['Clus_Mean_Lon']=0\n",
    "for i in range(10):\n",
    "    no_start1['Clus_Mean_Lat'][no_start1['Cluster_num']==i]=cent4[i][0]\n",
    "    no_start1['Clus_Mean_Lon'][no_start1['Cluster_num']==i]=cent4[i][1]"
   ]
  },
  {
   "cell_type": "code",
   "execution_count": 79,
   "metadata": {},
   "outputs": [],
   "source": [
    "no_start1.to_csv('C:\\\\Term2\\\\Practicum\\\\no_start.csv')"
   ]
  },
  {
   "cell_type": "markdown",
   "metadata": {},
   "source": [
    "Congested Routes - During Working Day between 10-11 AM, if the distance between 2 points is between 40 and 100 metre then conjestion is Amber, if below than 40 then Red else Green"
   ]
  },
  {
   "cell_type": "code",
   "execution_count": 81,
   "metadata": {},
   "outputs": [],
   "source": [
    "test_path=test.loc[(test['End_Latitude']>0)&(test['Start_Latitude']>0)&(test.index.hour==10)&(test['Fin_Day_Type']=='A')]   \n",
    "x_hm=test_path['POLYLINE'].values"
   ]
  },
  {
   "cell_type": "code",
   "execution_count": 82,
   "metadata": {},
   "outputs": [],
   "source": [
    "## Exract all lat lon pairs from each route\n",
    "y_hm=[]\n",
    "longitude_hm=[]\n",
    "latitude_hm=[]\n",
    "for i in range(len(x_hm)):\n",
    "    a= x_hm[i].replace('[','').split('],')\n",
    "    y1= [s.replace(\"]\", '') for s in a]\n",
    "    y_hm.append(y1)\n",
    "for j in range(len(y_hm)):\n",
    "    try:\n",
    "        a=[float(s.split(',')[0]) for s in y_hm[j]]\n",
    "        longitude_hm.append(a)\n",
    "        b=[float(s.split(',')[1]) for s in y_hm[j]]\n",
    "        latitude_hm.append(b)\n",
    "    except:\n",
    "        a=[s.split(',')[0] for s in y_hm[j]]\n",
    "        longitude_hm.append(a)\n",
    "        b=[s.split(',')[0] for s in y_hm[j]]\n",
    "        latitude_hm.append(b)"
   ]
  },
  {
   "cell_type": "code",
   "execution_count": 103,
   "metadata": {},
   "outputs": [],
   "source": [
    "# Find distance between each lat/lon pairs and find congested lat/lon based on distance tarvelled. If in a route \n",
    "## more than 50% points are congested maked as congested route\n",
    "ind_lat=[]\n",
    "ind_lon=[]\n",
    "cong=[]\n",
    "dist=[]\n",
    "route=[]\n",
    "fin_con=[]\n",
    "for i in range(len(longitude_hm)):\n",
    "    x1=len(longitude_hm[i])\n",
    "    c=0\n",
    "    if (x1<=240)&(x1>=20):\n",
    "        for j in range(len(longitude_hm[i])):\n",
    "            ind_lat.append(latitude_hm[i][j])\n",
    "            ind_lon.append(longitude_hm[i][j])\n",
    "            if j==0:\n",
    "                cong.append('S')\n",
    "                dist.append(0)\n",
    "            else:\n",
    "                x=get_dist(longitude_hm[i][j],latitude_hm[i][j],longitude_hm[i][j-1],latitude_hm[i][j-1])\n",
    "                dist.append(x)\n",
    "                if (x>=40.0)&(x<=100):\n",
    "                    cong.append('A')\n",
    "                elif x<40.0:\n",
    "                    c+=1\n",
    "                    cong.append('R')\n",
    "                else:\n",
    "                    cong.append('G')\n",
    "            route.append(i)\n",
    "        if (c/(x1-1)>0.5):\n",
    "            fin_con.append(i)\n",
    "            "
   ]
  },
  {
   "cell_type": "code",
   "execution_count": 106,
   "metadata": {},
   "outputs": [],
   "source": [
    "route_db=pd.DataFrame(list(zip(ind_lat,ind_lon,cong,dist,route)),columns=['Latitude','Long','Congestion','Dist','route'])"
   ]
  },
  {
   "cell_type": "code",
   "execution_count": 109,
   "metadata": {},
   "outputs": [],
   "source": [
    "d1=route_db.loc[route_db['route'].isin(fin_con)]"
   ]
  },
  {
   "cell_type": "code",
   "execution_count": 113,
   "metadata": {},
   "outputs": [],
   "source": [
    "d2=d1.loc[d1['Congestion']=='R']"
   ]
  },
  {
   "cell_type": "code",
   "execution_count": 110,
   "metadata": {},
   "outputs": [],
   "source": [
    "d1.to_csv('C:\\\\Term2\\\\Practicum\\\\conj.csv')"
   ]
  },
  {
   "cell_type": "code",
   "execution_count": 114,
   "metadata": {},
   "outputs": [
    {
     "name": "stderr",
     "output_type": "stream",
     "text": [
      "C:\\Program Files (x86)\\Microsoft Visual Studio\\Shared\\Anaconda3_64\\lib\\site-packages\\ipykernel_launcher.py:4: SettingWithCopyWarning: \n",
      "A value is trying to be set on a copy of a slice from a DataFrame.\n",
      "Try using .loc[row_indexer,col_indexer] = value instead\n",
      "\n",
      "See the caveats in the documentation: http://pandas.pydata.org/pandas-docs/stable/user_guide/indexing.html#returning-a-view-versus-a-copy\n",
      "  after removing the cwd from sys.path.\n"
     ]
    }
   ],
   "source": [
    "X5=d2[['Latitude','Long']].copy()\n",
    "KM5 = KMeans(n_clusters = 10, max_iter = 300) \n",
    "KM5.fit(X5) \n",
    "d2['Cluster_end']=KM5.labels_ \n",
    "cent5=KM5.cluster_centers_"
   ]
  },
  {
   "cell_type": "code",
   "execution_count": 133,
   "metadata": {},
   "outputs": [
    {
     "data": {
      "text/plain": [
       "0    78605\n",
       "5    54542\n",
       "1    33784\n",
       "6    27341\n",
       "9    22251\n",
       "2    21327\n",
       "7    17212\n",
       "3    10690\n",
       "8     3620\n",
       "4     2404\n",
       "Name: Cluster_end, dtype: int64"
      ]
     },
     "execution_count": 133,
     "metadata": {},
     "output_type": "execute_result"
    }
   ],
   "source": [
    "d2['Cluster_end'].value_counts()"
   ]
  },
  {
   "cell_type": "code",
   "execution_count": 125,
   "metadata": {},
   "outputs": [],
   "source": [
    "fin=pd.DataFrame(d2[d2['Cluster_end'].isin([0,5])]['route'].value_counts())\n",
    "fin_route=fin[fin['route']>100].index\n",
    "most_cnj=d1.loc[d1['route'].isin(fin_route)]\n",
    "most_cnj.to_csv('C:\\\\Term2\\\\Practicum\\\\most_conj.csv')"
   ]
  },
  {
   "cell_type": "code",
   "execution_count": 553,
   "metadata": {},
   "outputs": [
    {
     "data": {
      "text/plain": [
       "Int64Index([ 4727, 21149, 19931, 24341, 11430, 27656, 25643, 47040, 44382,\n",
       "            11722, 55915,  2374,  3730,  1999, 35249, 29219, 20982, 29579,\n",
       "             2333,   954, 45966, 48075, 26362, 39322, 15304, 20392, 56567,\n",
       "             9074, 12370, 32406, 48459, 12399, 43620, 48915, 20470, 38615,\n",
       "            13910, 46848, 47884, 47017, 50573, 57287, 48438, 50663,  4829,\n",
       "            29453, 30646, 19759, 42385, 16631, 33352],\n",
       "           dtype='int64')"
      ]
     },
     "execution_count": 553,
     "metadata": {},
     "output_type": "execute_result"
    }
   ],
   "source": [
    "x_tem=pd.DataFrame(d1[d1['Cluster_end']==3]['route'].value_counts())\n",
    "ind=x_tem[x_tem['route']>100].index\n",
    "ind"
   ]
  },
  {
   "cell_type": "markdown",
   "metadata": {},
   "source": [
    "End point Prediction"
   ]
  },
  {
   "cell_type": "code",
   "execution_count": 137,
   "metadata": {},
   "outputs": [],
   "source": [
    "test1 = pd.read_csv('C:\\\\Term2\\\\Practicum\\\\cabdata_form1.csv')"
   ]
  },
  {
   "cell_type": "code",
   "execution_count": 138,
   "metadata": {},
   "outputs": [],
   "source": [
    "test2 = test1[(test1['Start_Latitude']!=0)&(test1['End_Latitude']!=0)]"
   ]
  },
  {
   "cell_type": "code",
   "execution_count": 139,
   "metadata": {},
   "outputs": [],
   "source": [
    "XX= test2[['Start_Latitude','Start_Longitude']].copy()"
   ]
  },
  {
   "cell_type": "code",
   "execution_count": 140,
   "metadata": {},
   "outputs": [],
   "source": [
    "XX2= test2[['End_Latitude','End_Longitude']].copy()"
   ]
  },
  {
   "cell_type": "code",
   "execution_count": 141,
   "metadata": {},
   "outputs": [
    {
     "name": "stderr",
     "output_type": "stream",
     "text": [
      "C:\\Program Files (x86)\\Microsoft Visual Studio\\Shared\\Anaconda3_64\\lib\\site-packages\\ipykernel_launcher.py:3: SettingWithCopyWarning: \n",
      "A value is trying to be set on a copy of a slice from a DataFrame.\n",
      "Try using .loc[row_indexer,col_indexer] = value instead\n",
      "\n",
      "See the caveats in the documentation: http://pandas.pydata.org/pandas-docs/stable/user_guide/indexing.html#returning-a-view-versus-a-copy\n",
      "  This is separate from the ipykernel package so we can avoid doing imports until\n"
     ]
    }
   ],
   "source": [
    "KM6 = KMeans(n_clusters = 20, max_iter = 300) \n",
    "KM6.fit(XX) \n",
    "test2['Cluster_end']=KM6.labels_ "
   ]
  },
  {
   "cell_type": "code",
   "execution_count": 142,
   "metadata": {},
   "outputs": [
    {
     "name": "stderr",
     "output_type": "stream",
     "text": [
      "C:\\Program Files (x86)\\Microsoft Visual Studio\\Shared\\Anaconda3_64\\lib\\site-packages\\ipykernel_launcher.py:3: SettingWithCopyWarning: \n",
      "A value is trying to be set on a copy of a slice from a DataFrame.\n",
      "Try using .loc[row_indexer,col_indexer] = value instead\n",
      "\n",
      "See the caveats in the documentation: http://pandas.pydata.org/pandas-docs/stable/user_guide/indexing.html#returning-a-view-versus-a-copy\n",
      "  This is separate from the ipykernel package so we can avoid doing imports until\n"
     ]
    }
   ],
   "source": [
    "KM7 = KMeans(n_clusters = 20, max_iter = 300) \n",
    "KM7.fit(XX2) \n",
    "test2['Cluster_end2']=KM7.labels_ "
   ]
  },
  {
   "cell_type": "code",
   "execution_count": 194,
   "metadata": {},
   "outputs": [],
   "source": [
    "prdct=[[41.154885,-8.630712]]"
   ]
  },
  {
   "cell_type": "code",
   "execution_count": 195,
   "metadata": {},
   "outputs": [],
   "source": [
    "cl1=KM6.predict(prdct)[0]"
   ]
  },
  {
   "cell_type": "code",
   "execution_count": 188,
   "metadata": {},
   "outputs": [
    {
     "data": {
      "text/plain": [
       "4"
      ]
     },
     "execution_count": 188,
     "metadata": {},
     "output_type": "execute_result"
    }
   ],
   "source": [
    "best=pd.DataFrame((test2[test2['Cluster_end']==cl1)&(test2.index.hour==10)]['Cluster_end2'].value_counts())\n",
    "clus=best[best['Cluster_end2']==np.max(best['Cluster_end2'])].index\n",
    "clus=clus[0]"
   ]
  },
  {
   "cell_type": "code",
   "execution_count": 197,
   "metadata": {},
   "outputs": [
    {
     "data": {
      "text/plain": [
       "ORIGIN_STAND         25.575490\n",
       "Start_Latitude       41.159780\n",
       "Start_Longitude      -8.627768\n",
       "End_Latitude         41.149594\n",
       "End_Longitude        -8.611714\n",
       "Time                 11.228871\n",
       "Tot_Dist           1959.660235\n",
       "Cluster_end           0.000000\n",
       "Cluster_end2          4.000000\n",
       "dtype: float64"
      ]
     },
     "execution_count": 197,
     "metadata": {},
     "output_type": "execute_result"
    }
   ],
   "source": [
    "np.mean(test2[(test2['Cluster_end']==cl1)&(test2['Cluster_end2']==clus)&(test2.index.hour==10)])"
   ]
  },
  {
   "cell_type": "code",
   "execution_count": 180,
   "metadata": {},
   "outputs": [],
   "source": [
    "cent7=KM7.cluster_centers_"
   ]
  },
  {
   "cell_type": "code",
   "execution_count": 181,
   "metadata": {},
   "outputs": [
    {
     "data": {
      "text/plain": [
       "array([41.14948274, -8.61048566])"
      ]
     },
     "execution_count": 181,
     "metadata": {},
     "output_type": "execute_result"
    }
   ],
   "source": [
    "cent7[clus]"
   ]
  },
  {
   "cell_type": "markdown",
   "metadata": {},
   "source": [
    "Predict Next point in path"
   ]
  },
  {
   "cell_type": "code",
   "execution_count": 224,
   "metadata": {},
   "outputs": [],
   "source": [
    "## Find, Cent, assign, cov and Prior to initiate GMM\n",
    "def init_hmm(data,k):\n",
    "    km_hmm = KMeans(n_clusters=k)\n",
    "    km_hmm.fit(data)\n",
    "    assign = km_hmm.labels_\n",
    "    cents = km_hmm.cluster_centers_\n",
    "    prior=[]\n",
    "    covariance=[]\n",
    "    for i in range(10):\n",
    "        prior.append(data[assign==i].shape[0]/data.shape[0])\n",
    "        covariance.append(np.cov(data[assign==i].T))\n",
    "    return assign,cents,prior,covariance"
   ]
  },
  {
   "cell_type": "code",
   "execution_count": 225,
   "metadata": {},
   "outputs": [],
   "source": [
    "def E_res_step(data,mean,prior,covariance,k):\n",
    "    resp1 = np.zeros([data.shape[0], k])\n",
    "    for i in range(k):\n",
    "        resp1[:,i] = prior[i]*multivariate_gaussian_pdf(data, mean[i], covariance[i])\n",
    "    z=resp1.sum(axis=1)\n",
    "    for i in range(resp1.shape[0]):\n",
    "        for j in range(resp1.shape[1]):\n",
    "            resp1[i][j]=resp1[i][j]/z[i]\n",
    "    return resp1"
   ]
  },
  {
   "cell_type": "code",
   "execution_count": 226,
   "metadata": {},
   "outputs": [],
   "source": [
    "def M_step(data,resp,k,m_rec,cov):\n",
    "    prior=resp.sum(axis=0)/data.shape[0]\n",
    "    for i in range(k):\n",
    "        a=resp[:,i]*(data.T)\n",
    "        m_rec[i]=(a.sum(axis=1))/(resp[:,i].sum())\n",
    "    for i in range(k):\n",
    "        b=data-m_rec[i]\n",
    "        cov[i]=(b.T).dot(b*resp[:,i][:,np.newaxis])/(resp[:,i].sum())\n",
    "    return prior,m_rec,cov"
   ]
  },
  {
   "cell_type": "code",
   "execution_count": 227,
   "metadata": {},
   "outputs": [],
   "source": [
    "def create_GMM(data,k):\n",
    "    Likelihood=[]\n",
    "    K=[]\n",
    "    LLH=0\n",
    "    assign,mean,prior,cov = init_hmm(data,k)\n",
    "    for i in range(10):\n",
    "        try:\n",
    "            resp1 = E_res_step(data,mean,prior,cov,k)\n",
    "            prior,mean,cov=M_step(data,resp1,k,mean,cov)\n",
    "        except:\n",
    "            print(i)\n",
    "    assign = resp1.argmax(axis=1)\n",
    "    return assig,prior,mean,cov"
   ]
  },
  {
   "cell_type": "code",
   "execution_count": 228,
   "metadata": {},
   "outputs": [],
   "source": [
    "data_ch=[[41.145948,-8.612595],[41.145876,-8.612334],[41.145903,-8.611731]]"
   ]
  },
  {
   "cell_type": "code",
   "execution_count": 230,
   "metadata": {},
   "outputs": [],
   "source": [
    "hmm_df=pd.DataFrame(list(test_path.index),columns=['index'])\n",
    "p=[]\n",
    "m=[]\n",
    "covar=[]\n",
    "for j in range(10):\n",
    "    a1=[]\n",
    "    b1=[]\n",
    "    for i in range(len(latitude_hm)):\n",
    "        try:\n",
    "            a1.append(latitude_hm[i][j])\n",
    "            b1.append(longitude_hm[i][j])\n",
    "        except:\n",
    "            a1.append(0)\n",
    "            b1.append(0)\n",
    "    c1=\"lat_path_\"+str(j)\n",
    "    c2=\"lon_path_\"+str(j)\n",
    "    c3=\"cluster_path\"+str(j)\n",
    "    hmm_df[c1]=a1\n",
    "    hmm_df[c2]=b1\n",
    "    x1=hmm_df.loc[:,[c1,c2]].values\n",
    "    assignment,mean,prior,cov=init_hmm(x1,10)\n",
    "    p.append(prior)\n",
    "    m.append(mean)\n",
    "    covar.append(cov)\n",
    "    hmm_df[c3]=assignment"
   ]
  },
  {
   "cell_type": "code",
   "execution_count": 231,
   "metadata": {},
   "outputs": [],
   "source": [
    "emmision=np.zeros([10,3])\n",
    "for i in range(len(data_ch)):\n",
    "    for j in range(10):\n",
    "        try:\n",
    "            emmision[j][i]=p[i][j]*multivariate_gaussian_pdf(data_ch[i], m[i][j], covar[i][j])\n",
    "        except:\n",
    "            emmision[j][i]=0\n",
    "            \n",
    "z=emmision.sum(axis=0)\n",
    "for i in range(emmision.shape[1]):\n",
    "    for j in range(emmision.shape[0]):\n",
    "        emmision[j][i]=emmision[j][i]/z[i]\n",
    "    "
   ]
  },
  {
   "cell_type": "code",
   "execution_count": 232,
   "metadata": {},
   "outputs": [],
   "source": [
    "trans=[]\n",
    "x=0\n",
    "transition=np.zeros([9,10,10])\n",
    "while x<9:\n",
    "    c1='cluster_path'+str(x)\n",
    "    c2='cluster_path'+str(x+1)\n",
    "  #  print(c1,c2)\n",
    "    for i in range(10):\n",
    "        for j in range(10):\n",
    "            try:\n",
    "                transition[x][i][j]=hmm_df[(hmm_df[c1]==i)&(hmm_df[c2]==j)].shape[0]/hmm_df[hmm_df[c1]==i].shape[0]\n",
    "            except:\n",
    "                transition[x][i][j]=0\n",
    "    x=x+1"
   ]
  },
  {
   "cell_type": "code",
   "execution_count": 233,
   "metadata": {},
   "outputs": [],
   "source": [
    "delta = np.zeros([10,3])\n",
    "psi = np.zeros([10,3])\n",
    "delta[:,0]=p[0]*emmision[:,0]\n",
    "for k in range(2):\n",
    "    for i in range(10):\n",
    "        delta[i,k+1]=np.max(transition[k,:,i]*delta[:,k]*emmision[i][k])\n",
    "        psi[i,k+1]=np.argmax(transition[k,:,i]*delta[:,k])"
   ]
  },
  {
   "cell_type": "code",
   "execution_count": 234,
   "metadata": {},
   "outputs": [],
   "source": [
    "p_star=np.max(delta[:,2])\n",
    "q_star=np.argmax(delta[:,2])\n",
    "q_second=int(psi[q_star,2])\n",
    "q_first=psi[q_second,1]"
   ]
  },
  {
   "cell_type": "code",
   "execution_count": 249,
   "metadata": {},
   "outputs": [
    {
     "name": "stdout",
     "output_type": "stream",
     "text": [
      "6.0 6 5\n"
     ]
    }
   ],
   "source": [
    "print(q_first,q_second,q_star)"
   ]
  },
  {
   "cell_type": "code",
   "execution_count": 246,
   "metadata": {},
   "outputs": [
    {
     "name": "stdout",
     "output_type": "stream",
     "text": [
      "41.162589 -8.60913\n"
     ]
    }
   ],
   "source": [
    "\n",
    "get_val_clus3=hmm_df[(hmm_df['cluster_path0']==6)&(hmm_df['cluster_path1']==6)&(hmm_df['cluster_path2']==5)]['cluster_path3'].value_counts()\n",
    "x=hmm_df[(hmm_df['cluster_path0']==6)&(hmm_df['cluster_path1']==6)&(hmm_df['cluster_path2']==5)]['lat_path_3'].values\n",
    "y=hmm_df[(hmm_df['cluster_path0']==6)&(hmm_df['cluster_path1']==6)&(hmm_df['cluster_path2']==5)]['lon_path_3'].values\n",
    "dis=[]\n",
    "for i in range(len(x)):\n",
    "    dis.append(get_dist(y[i], x[i], data_ch[2][1], data_ch[2][0]))\n",
    "b1=get_dist(data_ch[1][1], data_ch[1][0], data_ch[2][1], data_ch[2][0])\n",
    "for i in range(len(dis)):\n",
    "    \n",
    "    if (dis[i]>(b1-0.1))&(dis[i]<(b1+0.1)):\n",
    "        print(x[i],y[i])"
   ]
  }
 ],
 "metadata": {
  "kernelspec": {
   "display_name": "Python 3",
   "language": "python",
   "name": "python3"
  },
  "language_info": {
   "codemirror_mode": {
    "name": "ipython",
    "version": 3
   },
   "file_extension": ".py",
   "mimetype": "text/x-python",
   "name": "python",
   "nbconvert_exporter": "python",
   "pygments_lexer": "ipython3",
   "version": "3.7.6"
  }
 },
 "nbformat": 4,
 "nbformat_minor": 2
}
